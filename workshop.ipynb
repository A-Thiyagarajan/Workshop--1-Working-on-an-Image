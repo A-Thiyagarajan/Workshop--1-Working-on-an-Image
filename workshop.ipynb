{
 "cells": [
  {
   "cell_type": "code",
   "execution_count": 12,
   "id": "0d1f82be-d12f-4090-afe4-4d905f1f047a",
   "metadata": {},
   "outputs": [],
   "source": [
    "import cv2\n",
    "\n",
    "# Load the images\n",
    "\n",
    "image1 = cv2.imread('THIYAGARAJAN.jpg')\n",
    "\n",
    "image2 = cv2.imread('thiyagu.jpg')\n",
    "\n",
    "\n"
   ]
  },
  {
   "cell_type": "code",
   "execution_count": 14,
   "id": "179cbd7c-b52b-4b6b-8d6c-88835137f32d",
   "metadata": {},
   "outputs": [
    {
     "data": {
      "text/plain": [
       "(1098, 800, 3)"
      ]
     },
     "execution_count": 14,
     "metadata": {},
     "output_type": "execute_result"
    }
   ],
   "source": [
    "image1.shape\n"
   ]
  },
  {
   "cell_type": "code",
   "execution_count": 16,
   "id": "3018bcaf-0659-48de-a244-237accc5a8cf",
   "metadata": {},
   "outputs": [
    {
     "data": {
      "text/plain": [
       "(900, 680, 3)"
      ]
     },
     "execution_count": 16,
     "metadata": {},
     "output_type": "execute_result"
    }
   ],
   "source": [
    "image2.shape\n"
   ]
  },
  {
   "cell_type": "code",
   "execution_count": 18,
   "id": "e2abe735-38ef-4631-a8e0-cae7ce7b433e",
   "metadata": {},
   "outputs": [],
   "source": [
    "image1_resized = cv2.resize(image1, (400,400))\n",
    "\n",
    "image2_resized = cv2.resize(image1, (400,400))\n"
   ]
  },
  {
   "cell_type": "code",
   "execution_count": 20,
   "id": "7e45e6df-b343-46a2-8920-2cc447e67be1",
   "metadata": {},
   "outputs": [
    {
     "data": {
      "text/plain": [
       "(400, 400, 3)"
      ]
     },
     "execution_count": 20,
     "metadata": {},
     "output_type": "execute_result"
    }
   ],
   "source": [
    "image1_resized.shape"
   ]
  },
  {
   "cell_type": "code",
   "execution_count": 22,
   "id": "a243dc55-ead5-4e14-9fb4-b07b4bcbab77",
   "metadata": {},
   "outputs": [
    {
     "data": {
      "text/plain": [
       "(400, 400, 3)"
      ]
     },
     "execution_count": 22,
     "metadata": {},
     "output_type": "execute_result"
    }
   ],
   "source": [
    "image2_resized.shape"
   ]
  },
  {
   "cell_type": "code",
   "execution_count": 26,
   "id": "91ea4dfc-1d8d-400f-a848-28dda4717a41",
   "metadata": {},
   "outputs": [],
   "source": [
    "## Split the image into 4 regions using row and column coordinates\n",
    "\n",
    "R1 = image1_resized [0:200, 0:200] #Top-Left region\n",
    "\n",
    "R2 = image1_resized [0:200, 200:400] # Top-right region\n",
    "\n",
    "R3 = image1_resized [200:400, 0:200] # Bottom-left region\n",
    "\n",
    "R4 = image1_resized [200:400, 200:400] # Bottom-right region\n"
   ]
  },
  {
   "cell_type": "code",
   "execution_count": 30,
   "id": "b06741d3-240a-41d7-abe0-f063299a73b0",
   "metadata": {},
   "outputs": [],
   "source": [
    "R5 = image2_resized [0:200, 0:200] #Top-Left region\n",
    "\n",
    "R6= image2_resized [0:200, 200:400] # Top-right region\n",
    "\n",
    "R7 = image2_resized [200:400, 0:200] # Bottom-left region\n",
    "\n",
    "R8 = image2_resized [200:400, 200:400] # Bottom-right region\n"
   ]
  },
  {
   "cell_type": "code",
   "execution_count": 32,
   "id": "7ac6e41b-9bec-4009-a9cd-b4ca4e635106",
   "metadata": {},
   "outputs": [],
   "source": [
    "\n",
    "image1_resized [0:200, 0:200] = R8\n",
    "\n",
    "image2_resized [200:400, 200:400] =R3\n"
   ]
  },
  {
   "cell_type": "code",
   "execution_count": null,
   "id": "2d9ca052-66a8-4f12-8256-5769d623f624",
   "metadata": {},
   "outputs": [],
   "source": [
    "#Display the resized images \n",
    "cv2.imshow('Resized Image 1', image1_resized) \n",
    "\n",
    "cv2.imshow('Resized Image 2', image2_resized)\n",
    "\n",
    "cv2.waitKey(0)\n",
    "\n",
    "cv2.destroyAllWindows()"
   ]
  }
 ],
 "metadata": {
  "kernelspec": {
   "display_name": "Python 3 (ipykernel)",
   "language": "python",
   "name": "python3"
  },
  "language_info": {
   "codemirror_mode": {
    "name": "ipython",
    "version": 3
   },
   "file_extension": ".py",
   "mimetype": "text/x-python",
   "name": "python",
   "nbconvert_exporter": "python",
   "pygments_lexer": "ipython3",
   "version": "3.12.4"
  }
 },
 "nbformat": 4,
 "nbformat_minor": 5
}
